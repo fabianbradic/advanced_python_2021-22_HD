{
 "cells": [
  {
   "cell_type": "markdown",
   "metadata": {},
   "source": [
    "# Mass spectrometry data\n",
    "\n",
    "The objective of this exercise is to read in raw peptide MSMS spectrum information and output a dataframe.\n",
    "The .msp file can be downloaded [here](https://chemdata.nist.gov/download/peptide_library/libraries/cptaclib/2015/cptac2_mouse_hcd_selected.msp.tar.gz).\n",
    "\n",
    "The information in this ASCII based text file is organized spectrum by spectrum.\n",
    "The first line per spectrum provides formatted like this:\n",
    "\n",
    "&emsp;<code>Name: sequence/charge_nmods_collisionenergy</code>\n",
    "\n",
    "followed by a comment section which can be disregarded and the actual spectrum data which is tab-separated:\n",
    "\n",
    "&emsp;<code>m/z&emsp;intensity&emsp;additional_info</code>\n",
    "\n",
    "Spectra are separated by an empty line.\n",
    "\n",
    "Code a function that returns two DataFrames or arrays containing the processed and filtered data. The first one should contain the spectrum information (n_spectra, n_m/z_features) and the second one the sequences per row (n_spectra).\n",
    "\n",
    "Here are some general guidelines:\n",
    "\n",
    "* The m/z values need to be binned to integer values (mathematically rounded), otherwise the dataframe size would get out of hand. This will allow for multiple values mapped to a single bin (e.g. if there are peaks at 145.1 and 145.2). Here, only the maximum of those peaks should be kept in the final dataframe.\n",
    "\n",
    "* Rows that are all-zero should be dropped.\n",
    "\n",
    "Your function should allow for selecting a range on the x-axis (m/z-range). All peaks outside this range can be disregarded. Furthermore, only spectra within a set collision energy range and a maximum sequence length should be contained in the output dataframe.\n",
    "\n",
    "The faster your function runs, the better. I will time them all in the end."
   ]
  },
  {
   "cell_type": "markdown",
   "metadata": {},
   "source": [
    "Made with &#10084;&#65039;&nbsp; by Michelle and me"
   ]
  },
  {
   "cell_type": "code",
   "execution_count": 34,
   "metadata": {},
   "outputs": [],
   "source": [
    "import numpy as np\n",
    "import pandas as pd\n",
    "import timeit\n",
    "import plotly.express as px\n",
    "from pathlib import Path\n",
    "pd.set_option(\"max_columns\",3000)"
   ]
  },
  {
   "cell_type": "code",
   "execution_count": 35,
   "metadata": {
    "pycharm": {
     "name": "#%%\n"
    }
   },
   "outputs": [],
   "source": [
    "def msp_to_df(\n",
    "    input_file,\n",
    "    max_seq_len=30,\n",
    "    min_ce=36,\n",
    "    max_ce=40,\n",
    "    mz_min=135,\n",
    "    mz_max=1400,\n",
    "):\n",
    "    \"\"\"\n",
    "    Function to read spectrum data from .msp file and convert to dataframe.\n",
    "    Args:\n",
    "        input_file (str): path to .msp file\n",
    "        max_seq_len (int): maximum acceptable sequence length\n",
    "        min_ce (int): minimum collision energy of spectra to be included in df\n",
    "        max_ce (int): maximum collision energy of spectra to be included in df\n",
    "        mz_min (int): lower boundary for m/z to be included in df\n",
    "        mz_max (int): lower boundary for m/z to be included in df\n",
    "\n",
    "    Returns:\n",
    "        df (pd.DataFrame or np.array): spectrum information within defined parameters [n_spectra, n_features]\n",
    "        seqs (pd.DataFrame or np.array): sequences\n",
    "    \"\"\"\n",
    "    df = pd.DataFrame(columns=range(mz_min,mz_max))\n",
    "    seqs = []\n",
    "\n",
    "    with open(input_file, \"r\") as file:\n",
    "        continue_to_next_name = False\n",
    "        index_counter = -1\n",
    "        for line in file:\n",
    "            if \"Name\" in line:\n",
    "                continue_to_next_name = False\n",
    "                split = line.split(\" \")[1].split(\"/\")\n",
    "                name = split[0]\n",
    "                ce = split[1].rsplit(\"_\")[-1].replace(\"eV\",\"\")\n",
    "                ce = float(ce)\n",
    "                if not min_ce < ce < max_ce:\n",
    "                    continue_to_next_name = True\n",
    "                else:\n",
    "                    seqs.append(name)\n",
    "                    index_counter += 1\n",
    "                    df.loc[index_counter] = np.zeros(df.shape[1])\n",
    "            if continue_to_next_name == True:\n",
    "                continue\n",
    "            if any(substring in line for substring in [\"MW\",\"Comment\",\"Num peaks\",\"Name\"]):\n",
    "                continue\n",
    "            if line == \"\\n\":\n",
    "                continue\n",
    "            else:\n",
    "                split2 = line.split(\"\\t\")\n",
    "                mz = round(float(split2[0]))\n",
    "                intensity = float(split2[1])\n",
    "                if mz_min < mz < mz_max:\n",
    "                    if intensity > df.at[index_counter,mz]:\n",
    "                        df.at[index_counter,mz] = intensity\n",
    "    df = df.loc[~(df==0).all(axis=1)]\n",
    "    return df, seqs"
   ]
  },
  {
   "cell_type": "code",
   "execution_count": 36,
   "metadata": {},
   "outputs": [],
   "source": [
    "df,seqs = msp_to_df(\"../../data/cptac2_mouse_hcd_selected.msp\")"
   ]
  },
  {
   "cell_type": "code",
   "execution_count": 37,
   "metadata": {},
   "outputs": [],
   "source": [
    "def create_plots(df,seqs, directory):\n",
    "    Path(directory).mkdir(parents=True, exist_ok=True)\n",
    "    df = df.copy()\n",
    "    df[\"Name\"] = seqs\n",
    "    df = pd.melt(df, id_vars=[\"Name\"], var_name=\"mz\", value_name=\"Intensity\")\n",
    "    for name in set(df[\"Name\"]):\n",
    "        subdf = df[df[\"Name\"]==name].copy()\n",
    "        fig = px.line(subdf,x=\"mz\",y=\"Intensity\",title=name)\n",
    "        fig.write_image(f\"{directory}/\"+name+\".png\")"
   ]
  },
  {
   "cell_type": "code",
   "execution_count": 38,
   "metadata": {},
   "outputs": [],
   "source": [
    "create_plots(df,seqs,\"plots\")"
   ]
  }
 ],
 "metadata": {
  "kernelspec": {
   "display_name": "Python 3",
   "language": "python",
   "name": "python3"
  },
  "language_info": {
   "codemirror_mode": {
    "name": "ipython",
    "version": 3
   },
   "file_extension": ".py",
   "mimetype": "text/x-python",
   "name": "python",
   "nbconvert_exporter": "python",
   "pygments_lexer": "ipython3",
   "version": "3.9.7"
  }
 },
 "nbformat": 4,
 "nbformat_minor": 1
}
